{
  "nbformat": 4,
  "nbformat_minor": 0,
  "metadata": {
    "colab": {
      "name": "SummerOlympicsAnalysis.ipynb",
      "provenance": [],
      "authorship_tag": "ABX9TyP4iK8XsXqFjCdFcvdzIMaP",
      "include_colab_link": true
    },
    "kernelspec": {
      "name": "python3",
      "display_name": "Python 3"
    },
    "language_info": {
      "name": "python"
    }
  },
  "cells": [
    {
      "cell_type": "markdown",
      "metadata": {
        "id": "view-in-github",
        "colab_type": "text"
      },
      "source": [
        "<a href=\"https://colab.research.google.com/github/mradul13/SummerOlympicsAnalysis/blob/main/SummerOlympicsAnalysis.ipynb\" target=\"_parent\"><img src=\"https://colab.research.google.com/assets/colab-badge.svg\" alt=\"Open In Colab\"/></a>"
      ]
    },
    {
      "cell_type": "code",
      "metadata": {
        "id": "mxzOQyw1NdsF"
      },
      "source": [
        ""
      ],
      "execution_count": null,
      "outputs": []
    },
    {
      "cell_type": "markdown",
      "metadata": {
        "id": "603oKLsMokbo"
      },
      "source": [
        "# Summer Olympics Data Analysis Assignment"
      ]
    },
    {
      "cell_type": "code",
      "metadata": {
        "id": "PjnOr_dfpwYH"
      },
      "source": [
        "import pandas as pd\n"
      ],
      "execution_count": 4,
      "outputs": []
    },
    {
      "cell_type": "code",
      "metadata": {
        "id": "tP5u4-MxrRzd"
      },
      "source": [
        "df = pd.read_csv(\"summer.csv\")"
      ],
      "execution_count": 5,
      "outputs": []
    },
    {
      "cell_type": "markdown",
      "metadata": {
        "id": "cmB6ehP5okbt"
      },
      "source": [
        "### 1. In how many cities Summer Olympics is held so far?"
      ]
    },
    {
      "cell_type": "code",
      "metadata": {
        "id": "QCqXiulLokbv",
        "colab": {
          "base_uri": "https://localhost:8080/"
        },
        "outputId": "be5d62a5-7384-47a7-ccfb-2dbea42ab4cc"
      },
      "source": [
        "df[\"City\"].nunique()"
      ],
      "execution_count": 6,
      "outputs": [
        {
          "output_type": "execute_result",
          "data": {
            "text/plain": [
              "22"
            ]
          },
          "metadata": {},
          "execution_count": 6
        }
      ]
    },
    {
      "cell_type": "code",
      "metadata": {
        "id": "Hbir4LJGz7ws",
        "colab": {
          "base_uri": "https://localhost:8080/"
        },
        "outputId": "11c25ea8-5844-4847-84f4-9d21267c6b5f"
      },
      "source": [
        "list(df[\"City\"].unique())"
      ],
      "execution_count": 7,
      "outputs": [
        {
          "output_type": "execute_result",
          "data": {
            "text/plain": [
              "['Athens',\n",
              " 'Paris',\n",
              " 'St Louis',\n",
              " 'London',\n",
              " 'Stockholm',\n",
              " 'Antwerp',\n",
              " 'Amsterdam',\n",
              " 'Los Angeles',\n",
              " 'Berlin',\n",
              " 'Helsinki',\n",
              " 'Melbourne / Stockholm',\n",
              " 'Rome',\n",
              " 'Tokyo',\n",
              " 'Mexico',\n",
              " 'Munich',\n",
              " 'Montreal',\n",
              " 'Moscow',\n",
              " 'Seoul',\n",
              " 'Barcelona',\n",
              " 'Atlanta',\n",
              " 'Sydney',\n",
              " 'Beijing']"
            ]
          },
          "metadata": {},
          "execution_count": 7
        }
      ]
    },
    {
      "cell_type": "markdown",
      "metadata": {
        "id": "FlaZMbVDokbw"
      },
      "source": [
        "### 2. Which sport is having most number of Gold Medals so far? (Top 5)"
      ]
    },
    {
      "cell_type": "code",
      "metadata": {
        "id": "6ew0LeDQokbw",
        "colab": {
          "base_uri": "https://localhost:8080/",
          "height": 435
        },
        "outputId": "d0dd5f53-33b6-4153-d833-76951e3af8f8"
      },
      "source": [
        "print(df[df[\"Medal\"]==\"Gold\"].Sport.value_counts().head())\n",
        "df[df[\"Medal\"]==\"Gold\"].Sport.value_counts().head().plot.bar()"
      ],
      "execution_count": 11,
      "outputs": [
        {
          "output_type": "stream",
          "name": "stdout",
          "text": [
            "Aquatics      1421\n",
            "Athletics     1215\n",
            "Rowing         890\n",
            "Gymnastics     820\n",
            "Fencing        552\n",
            "Name: Sport, dtype: int64\n"
          ]
        },
        {
          "output_type": "execute_result",
          "data": {
            "text/plain": [
              "<matplotlib.axes._subplots.AxesSubplot at 0x7ff31ca7f390>"
            ]
          },
          "metadata": {},
          "execution_count": 11
        },
        {
          "output_type": "display_data",
          "data": {
            "image/png": "[encoded data removed]",
            "text/plain": [
              "<Figure size 432x288 with 1 Axes>"
            ]
          },
          "metadata": {
            "needs_background": "light"
          }
        }
      ]
    },
    {
      "cell_type": "markdown",
      "metadata": {
        "id": "jtDXS3Jpokbw"
      },
      "source": [
        "### 3. Which sport is having most number of medals so far? (Top 5)"
      ]
    },
    {
      "cell_type": "code",
      "metadata": {
        "id": "dM9oFhZFokbx",
        "colab": {
          "base_uri": "https://localhost:8080/",
          "height": 435
        },
        "outputId": "1c5cbf24-bd22-4da8-bfaa-6aa9b3355a37"
      },
      "source": [
        "print(df.Sport.value_counts().head())\n",
        "df.Sport.value_counts().head().plot.bar()"
      ],
      "execution_count": 12,
      "outputs": [
        {
          "output_type": "stream",
          "name": "stdout",
          "text": [
            "Aquatics      4170\n",
            "Athletics     3638\n",
            "Rowing        2667\n",
            "Gymnastics    2307\n",
            "Fencing       1613\n",
            "Name: Sport, dtype: int64\n"
          ]
        },
        {
          "output_type": "execute_result",
          "data": {
            "text/plain": [
              "<matplotlib.axes._subplots.AxesSubplot at 0x7ff31c9d1750>"
            ]
          },
          "metadata": {},
          "execution_count": 12
        },
        {
          "output_type": "display_data",
          "data": {
            "image/png": "[encoded data removed]",
            "text/plain": [
              "<Figure size 432x288 with 1 Axes>"
            ]
          },
          "metadata": {
            "needs_background": "light"
          }
        }
      ]
    },
    {
      "cell_type": "markdown",
      "metadata": {
        "id": "n4wpp0IBokby"
      },
      "source": [
        "### 4. Which player has won most number of medals? (Top 5)"
      ]
    },
    {
      "cell_type": "code",
      "metadata": {
        "id": "E6S-bAMnokby",
        "colab": {
          "base_uri": "https://localhost:8080/",
          "height": 495
        },
        "outputId": "c7446a81-7cc4-4e5d-d47d-4c73988794f0"
      },
      "source": [
        "print(df.Athlete.value_counts().head())\n",
        "df.Athlete.value_counts().head().plot.bar()"
      ],
      "execution_count": 13,
      "outputs": [
        {
          "output_type": "stream",
          "name": "stdout",
          "text": [
            "PHELPS, Michael         22\n",
            "LATYNINA, Larisa        18\n",
            "ANDRIANOV, Nikolay      15\n",
            "ONO, Takashi            13\n",
            "MANGIAROTTI, Edoardo    13\n",
            "Name: Athlete, dtype: int64\n"
          ]
        },
        {
          "output_type": "execute_result",
          "data": {
            "text/plain": [
              "<matplotlib.axes._subplots.AxesSubplot at 0x7ff31c952110>"
            ]
          },
          "metadata": {},
          "execution_count": 13
        },
        {
          "output_type": "display_data",
          "data": {
            "image/png": "[encoded data removed]",
            "text/plain": [
              "<Figure size 432x288 with 1 Axes>"
            ]
          },
          "metadata": {
            "needs_background": "light"
          }
        }
      ]
    },
    {
      "cell_type": "markdown",
      "metadata": {
        "id": "RLVfjhYrokbz"
      },
      "source": [
        "### 5. Which player has won most number Gold Medals of medals? (Top 5)"
      ]
    },
    {
      "cell_type": "code",
      "metadata": {
        "id": "nSBMFLZkokbz",
        "colab": {
          "base_uri": "https://localhost:8080/",
          "height": 461
        },
        "outputId": "4de4aa32-82b6-4f49-c975-b132d99aa79d"
      },
      "source": [
        "print(df[df.Medal==\"Gold\"].Athlete.value_counts().head())\n",
        "df[df.Medal==\"Gold\"].Athlete.value_counts().head().plot.bar()"
      ],
      "execution_count": 14,
      "outputs": [
        {
          "output_type": "stream",
          "name": "stdout",
          "text": [
            "PHELPS, Michael     18\n",
            "NURMI, Paavo         9\n",
            "LEWIS, Carl          9\n",
            "SPITZ, Mark          9\n",
            "LATYNINA, Larisa     9\n",
            "Name: Athlete, dtype: int64\n"
          ]
        },
        {
          "output_type": "execute_result",
          "data": {
            "text/plain": [
              "<matplotlib.axes._subplots.AxesSubplot at 0x7ff31c8c6b90>"
            ]
          },
          "metadata": {},
          "execution_count": 14
        },
        {
          "output_type": "display_data",
          "data": {
            "image/png": "[encoded data removed]",
            "text/plain": [
              "<Figure size 432x288 with 1 Axes>"
            ]
          },
          "metadata": {
            "needs_background": "light"
          }
        }
      ]
    },
    {
      "cell_type": "markdown",
      "metadata": {
        "id": "E3dcCidaokb0"
      },
      "source": [
        "### 6. In which year India won first Gold Medal in Summer Olympics?"
      ]
    },
    {
      "cell_type": "code",
      "metadata": {
        "id": "lmUlAw6mokb0",
        "colab": {
          "base_uri": "https://localhost:8080/"
        },
        "outputId": "34ba88c7-f8e5-4072-ee61-abe7d477a642"
      },
      "source": [
        "dfGold=df[df.Medal==\"Gold\"]\n",
        "min(dfGold[dfGold.Country==\"IND\"].Year)"
      ],
      "execution_count": null,
      "outputs": [
        {
          "output_type": "execute_result",
          "data": {
            "text/plain": [
              "1928"
            ]
          },
          "metadata": {},
          "execution_count": 18
        }
      ]
    },
    {
      "cell_type": "markdown",
      "metadata": {
        "id": "onfBT9zEokb1"
      },
      "source": [
        "### 7. Which event is most popular in terms on number of players? (Top 5)"
      ]
    },
    {
      "cell_type": "code",
      "metadata": {
        "id": "GlwpzT7Xokb1",
        "colab": {
          "base_uri": "https://localhost:8080/",
          "height": 467
        },
        "outputId": "0e4d19c1-4166-4823-fd22-ffda4bb8fb66"
      },
      "source": [
        "print(df[\"Event\"].value_counts().head())\n",
        "df[\"Event\"].value_counts().head().plot.bar()"
      ],
      "execution_count": 15,
      "outputs": [
        {
          "output_type": "stream",
          "name": "stdout",
          "text": [
            "Football            1497\n",
            "Hockey              1422\n",
            "Team Competition    1147\n",
            "Basketball          1012\n",
            "Handball             973\n",
            "Name: Event, dtype: int64\n"
          ]
        },
        {
          "output_type": "execute_result",
          "data": {
            "text/plain": [
              "<matplotlib.axes._subplots.AxesSubplot at 0x7ff31c834690>"
            ]
          },
          "metadata": {},
          "execution_count": 15
        },
        {
          "output_type": "display_data",
          "data": {
            "image/png": "[encoded data removed]",
            "text/plain": [
              "<Figure size 432x288 with 1 Axes>"
            ]
          },
          "metadata": {
            "needs_background": "light"
          }
        }
      ]
    },
    {
      "cell_type": "markdown",
      "metadata": {
        "id": "X6nS-qhmokb2"
      },
      "source": [
        "### 8. Which sport is having most female Gold Medalists? (Top 5)"
      ]
    },
    {
      "cell_type": "code",
      "metadata": {
        "id": "-wKQ_ZJDokb2",
        "colab": {
          "base_uri": "https://localhost:8080/",
          "height": 435
        },
        "outputId": "2569e015-4e64-4d17-d77b-bb72b49fbbae"
      },
      "source": [
        "dfGold=df[df.Medal==\"Gold\"]\n",
        "print(dfGold[dfGold.Gender==\"Women\"].Sport.value_counts().head())\n",
        "dfGold[dfGold.Gender==\"Women\"].Sport.value_counts().head().plot.bar()"
      ],
      "execution_count": 16,
      "outputs": [
        {
          "output_type": "stream",
          "name": "stdout",
          "text": [
            "Aquatics      589\n",
            "Athletics     389\n",
            "Gymnastics    268\n",
            "Rowing        217\n",
            "Volleyball    166\n",
            "Name: Sport, dtype: int64\n"
          ]
        },
        {
          "output_type": "execute_result",
          "data": {
            "text/plain": [
              "<matplotlib.axes._subplots.AxesSubplot at 0x7ff31c7bbcd0>"
            ]
          },
          "metadata": {},
          "execution_count": 16
        },
        {
          "output_type": "display_data",
          "data": {
            "image/png": "[encoded data removed]",
            "text/plain": [
              "<Figure size 432x288 with 1 Axes>"
            ]
          },
          "metadata": {
            "needs_background": "light"
          }
        }
      ]
    }
  ]
}